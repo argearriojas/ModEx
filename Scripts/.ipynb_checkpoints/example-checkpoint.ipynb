{
 "cells": [
  {
   "cell_type": "code",
   "execution_count": 4,
   "metadata": {},
   "outputs": [],
   "source": [
    "#!/usr/bin/env python3\n",
    "# -*- coding: utf-8 -*-\n",
    "import pandas as pd\n",
    "import functions as fn\n",
    "import os\n",
    "input_directory=os.path.realpath('../Data')\n",
    "\n",
    "\n",
    "Positive=[]\n",
    "[Positive.append(line.strip().upper()) for line in open(input_directory+\"/Positive.txt\")]\n",
    "Negative=[]\n",
    "[Negative.append(line.strip().upper()) for line in open(input_directory+\"/Negative.txt\")]\n",
    "\n",
    "genes_ents=input_directory + \"/ALL_Human_Genes_Info.csv\" #NCBI\n",
    "genes=pd.read_csv(genes_ents,sep=',',header=(0))\n",
    "genes.fillna('', inplace=True)\n",
    "\n",
    "lookup_ids=pd.read_csv(input_directory+\"/ncbi_id_lookup.csv\",sep='\\t',header=(0))\n",
    "\n",
    "CHIP_result=pd.DataFrame(columns=['src_entrez','trg_entrez','srcname','trgname','mode','score','evi_pmid','evi_sent'])\n",
    "\n",
    "#query_genes=['AATF','BAX'] #Symbol MUST [TF,Target]\n",
    "query_id=[26574,4609]#NCBI ID MUST [TF,Target]\n",
    "parser_port=\"8000\"\n",
    "mesh='humans'\n",
    "email='samanfm@gmail.com'"
   ]
  },
  {
   "cell_type": "code",
   "execution_count": 5,
   "metadata": {},
   "outputs": [
    {
     "name": "stdout",
     "output_type": "stream",
     "text": [
      "['AATF'] , ['MYC']\n",
      "['positive']\n",
      "['4']\n",
      "['20924650;20549547;17006618;17006618']\n"
     ]
    }
   ],
   "source": [
    "res=fn.modex(query_id,parser_port,Positive,Negative,lookup_ids,genes,mesh,email)"
   ]
  },
  {
   "cell_type": "code",
   "execution_count": 6,
   "metadata": {},
   "outputs": [
    {
     "name": "stdout",
     "output_type": "stream",
     "text": [
      "  src_entrez trg_entrez srcname trgname      mode score                             evi_pmid                                           evi_sent\n",
      "0      26574       4609    AATF     MYC  positive     4  20924650;20549547;17006618;17006618  [20924650]WE HAVE UNAMBIGUOUSLY PROVEN THAT MI...\n"
     ]
    }
   ],
   "source": [
    "print(res.to_string())"
   ]
  },
  {
   "cell_type": "code",
   "execution_count": null,
   "metadata": {},
   "outputs": [],
   "source": []
  }
 ],
 "metadata": {
  "kernelspec": {
   "display_name": "Python 3",
   "language": "python",
   "name": "python3"
  },
  "language_info": {
   "codemirror_mode": {
    "name": "ipython",
    "version": 3
   },
   "file_extension": ".py",
   "mimetype": "text/x-python",
   "name": "python",
   "nbconvert_exporter": "python",
   "pygments_lexer": "ipython3",
   "version": "3.6.8"
  }
 },
 "nbformat": 4,
 "nbformat_minor": 2
}
